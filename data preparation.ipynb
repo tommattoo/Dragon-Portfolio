{
 "cells": [
  {
   "cell_type": "code",
   "execution_count": 37,
   "metadata": {},
   "outputs": [],
   "source": [
    "\n",
    "import pandas as pd\n",
    "import numpy as np\n",
    "\n",
    "#upload the file /Users/tommi/Desktop/Uni_documents/Data/commodity-2005.csv taking the \"Dates\" column as index\n",
    "commodity = pd.read_csv('/Users/tommi/Desktop/Uni_documents/Data/commodity-2005.csv', index_col='Dates')"
   ]
  },
  {
   "cell_type": "code",
   "execution_count": 38,
   "metadata": {},
   "outputs": [],
   "source": [
    "# import /Users/tommi/Desktop/Uni_documents/Data/volatility-2004.csv\n",
    "volatility = pd.read_csv('/Users/tommi/Desktop/Uni_documents/Data/volatility-2004.csv', index_col='Dates')\n"
   ]
  },
  {
   "cell_type": "code",
   "execution_count": 39,
   "metadata": {},
   "outputs": [],
   "source": [
    "#upload /Users/tommi/Desktop/Uni_documents/Data/EHI640_returns10-02-2025.csv\n",
    "benchmark_vol = pd.read_csv('/Users/tommi/Desktop/Uni_documents/Data/EHI640_returns10-02-2025.csv')\n"
   ]
  },
  {
   "cell_type": "code",
   "execution_count": 40,
   "metadata": {},
   "outputs": [],
   "source": [
    "#from the volatility dataframe, delete the rows where data is less than 1/12/2004 and greater than 31/12/2004\n",
    "volatility = volatility.loc['31/12/2004': '31/12/2024' ]"
   ]
  },
  {
   "cell_type": "code",
   "execution_count": 41,
   "metadata": {},
   "outputs": [
    {
     "data": {
      "text/html": [
       "<div>\n",
       "<style scoped>\n",
       "    .dataframe tbody tr th:only-of-type {\n",
       "        vertical-align: middle;\n",
       "    }\n",
       "\n",
       "    .dataframe tbody tr th {\n",
       "        vertical-align: top;\n",
       "    }\n",
       "\n",
       "    .dataframe thead th {\n",
       "        text-align: right;\n",
       "    }\n",
       "</style>\n",
       "<table border=\"1\" class=\"dataframe\">\n",
       "  <thead>\n",
       "    <tr style=\"text-align: right;\">\n",
       "      <th></th>\n",
       "      <th>VIXY US Equity</th>\n",
       "      <th>VXX US Equity</th>\n",
       "      <th>UVXY US Equity</th>\n",
       "      <th>VIXM US Equity</th>\n",
       "      <th>VIX Index</th>\n",
       "    </tr>\n",
       "    <tr>\n",
       "      <th>Dates</th>\n",
       "      <th></th>\n",
       "      <th></th>\n",
       "      <th></th>\n",
       "      <th></th>\n",
       "      <th></th>\n",
       "    </tr>\n",
       "  </thead>\n",
       "  <tbody>\n",
       "    <tr>\n",
       "      <th>30/08/2024</th>\n",
       "      <td>44.00</td>\n",
       "      <td>44.500</td>\n",
       "      <td>21.83</td>\n",
       "      <td>14.42</td>\n",
       "      <td>15.00</td>\n",
       "    </tr>\n",
       "    <tr>\n",
       "      <th>30/09/2024</th>\n",
       "      <td>49.00</td>\n",
       "      <td>49.600</td>\n",
       "      <td>24.93</td>\n",
       "      <td>15.11</td>\n",
       "      <td>16.73</td>\n",
       "    </tr>\n",
       "    <tr>\n",
       "      <th>31/10/2024</th>\n",
       "      <td>57.20</td>\n",
       "      <td>57.870</td>\n",
       "      <td>30.94</td>\n",
       "      <td>15.60</td>\n",
       "      <td>23.16</td>\n",
       "    </tr>\n",
       "    <tr>\n",
       "      <th>29/11/2024</th>\n",
       "      <td>41.99</td>\n",
       "      <td>42.585</td>\n",
       "      <td>19.30</td>\n",
       "      <td>13.74</td>\n",
       "      <td>13.51</td>\n",
       "    </tr>\n",
       "    <tr>\n",
       "      <th>31/12/2024</th>\n",
       "      <td>45.02</td>\n",
       "      <td>45.800</td>\n",
       "      <td>20.72</td>\n",
       "      <td>14.46</td>\n",
       "      <td>17.35</td>\n",
       "    </tr>\n",
       "  </tbody>\n",
       "</table>\n",
       "</div>"
      ],
      "text/plain": [
       "            VIXY US Equity  VXX US Equity  UVXY US Equity  VIXM US Equity  \\\n",
       "Dates                                                                       \n",
       "30/08/2024           44.00         44.500           21.83           14.42   \n",
       "30/09/2024           49.00         49.600           24.93           15.11   \n",
       "31/10/2024           57.20         57.870           30.94           15.60   \n",
       "29/11/2024           41.99         42.585           19.30           13.74   \n",
       "31/12/2024           45.02         45.800           20.72           14.46   \n",
       "\n",
       "            VIX Index  \n",
       "Dates                  \n",
       "30/08/2024      15.00  \n",
       "30/09/2024      16.73  \n",
       "31/10/2024      23.16  \n",
       "29/11/2024      13.51  \n",
       "31/12/2024      17.35  "
      ]
     },
     "execution_count": 41,
     "metadata": {},
     "output_type": "execute_result"
    }
   ],
   "source": [
    "volatility.tail()"
   ]
  },
  {
   "cell_type": "code",
   "execution_count": 42,
   "metadata": {},
   "outputs": [
    {
     "data": {
      "text/html": [
       "<div>\n",
       "<style scoped>\n",
       "    .dataframe tbody tr th:only-of-type {\n",
       "        vertical-align: middle;\n",
       "    }\n",
       "\n",
       "    .dataframe tbody tr th {\n",
       "        vertical-align: top;\n",
       "    }\n",
       "\n",
       "    .dataframe thead th {\n",
       "        text-align: right;\n",
       "    }\n",
       "</style>\n",
       "<table border=\"1\" class=\"dataframe\">\n",
       "  <thead>\n",
       "    <tr style=\"text-align: right;\">\n",
       "      <th></th>\n",
       "      <th>ReturnDate</th>\n",
       "      <th>PercentReturn</th>\n",
       "      <th>Index</th>\n",
       "    </tr>\n",
       "  </thead>\n",
       "  <tbody>\n",
       "    <tr>\n",
       "      <th>236</th>\n",
       "      <td>Aug 2024</td>\n",
       "      <td>0.62</td>\n",
       "      <td>186.91</td>\n",
       "    </tr>\n",
       "    <tr>\n",
       "      <th>237</th>\n",
       "      <td>Sep 2024</td>\n",
       "      <td>1.96</td>\n",
       "      <td>190.57</td>\n",
       "    </tr>\n",
       "    <tr>\n",
       "      <th>238</th>\n",
       "      <td>Oct 2024</td>\n",
       "      <td>0.93</td>\n",
       "      <td>192.34</td>\n",
       "    </tr>\n",
       "    <tr>\n",
       "      <th>239</th>\n",
       "      <td>Nov 2024</td>\n",
       "      <td>-1.04</td>\n",
       "      <td>190.35</td>\n",
       "    </tr>\n",
       "    <tr>\n",
       "      <th>240</th>\n",
       "      <td>Dec 2024</td>\n",
       "      <td>0.21</td>\n",
       "      <td>190.75</td>\n",
       "    </tr>\n",
       "  </tbody>\n",
       "</table>\n",
       "</div>"
      ],
      "text/plain": [
       "    ReturnDate  PercentReturn   Index\n",
       "236   Aug 2024           0.62  186.91\n",
       "237   Sep 2024           1.96  190.57\n",
       "238   Oct 2024           0.93  192.34\n",
       "239   Nov 2024          -1.04  190.35\n",
       "240   Dec 2024           0.21  190.75"
      ]
     },
     "execution_count": 42,
     "metadata": {},
     "output_type": "execute_result"
    }
   ],
   "source": [
    "benchmark_vol.tail()"
   ]
  },
  {
   "cell_type": "code",
   "execution_count": 43,
   "metadata": {},
   "outputs": [
    {
     "name": "stdout",
     "output_type": "stream",
     "text": [
      "241\n",
      "241\n"
     ]
    }
   ],
   "source": [
    "#count the numer of rows in the benchmark_vol dataframe and volatility dataframe\n",
    "print(len(benchmark_vol))\n",
    "print(len(volatility))"
   ]
  },
  {
   "cell_type": "code",
   "execution_count": 44,
   "metadata": {},
   "outputs": [],
   "source": [
    "#reset the index of volatility dataframe\n",
    "volatility.reset_index(inplace=True)"
   ]
  },
  {
   "cell_type": "code",
   "execution_count": 46,
   "metadata": {},
   "outputs": [],
   "source": [
    "#merge the benchmark_vol and volatility dataframes, the first line with the first , the second with the second and so on \n",
    "merged = pd.merge(benchmark_vol, volatility, left_index=True, right_index=True)"
   ]
  },
  {
   "cell_type": "code",
   "execution_count": 47,
   "metadata": {},
   "outputs": [
    {
     "data": {
      "text/html": [
       "<div>\n",
       "<style scoped>\n",
       "    .dataframe tbody tr th:only-of-type {\n",
       "        vertical-align: middle;\n",
       "    }\n",
       "\n",
       "    .dataframe tbody tr th {\n",
       "        vertical-align: top;\n",
       "    }\n",
       "\n",
       "    .dataframe thead th {\n",
       "        text-align: right;\n",
       "    }\n",
       "</style>\n",
       "<table border=\"1\" class=\"dataframe\">\n",
       "  <thead>\n",
       "    <tr style=\"text-align: right;\">\n",
       "      <th></th>\n",
       "      <th>ReturnDate</th>\n",
       "      <th>PercentReturn</th>\n",
       "      <th>Index</th>\n",
       "      <th>Dates</th>\n",
       "      <th>VIXY US Equity</th>\n",
       "      <th>VXX US Equity</th>\n",
       "      <th>UVXY US Equity</th>\n",
       "      <th>VIXM US Equity</th>\n",
       "      <th>VIX Index</th>\n",
       "    </tr>\n",
       "  </thead>\n",
       "  <tbody>\n",
       "    <tr>\n",
       "      <th>0</th>\n",
       "      <td>Dec 2004</td>\n",
       "      <td>NaN</td>\n",
       "      <td>100.00</td>\n",
       "      <td>31/12/2004</td>\n",
       "      <td>NaN</td>\n",
       "      <td>NaN</td>\n",
       "      <td>NaN</td>\n",
       "      <td>NaN</td>\n",
       "      <td>13.29</td>\n",
       "    </tr>\n",
       "    <tr>\n",
       "      <th>1</th>\n",
       "      <td>Jan 2005</td>\n",
       "      <td>0.31</td>\n",
       "      <td>100.31</td>\n",
       "      <td>31/01/2005</td>\n",
       "      <td>NaN</td>\n",
       "      <td>NaN</td>\n",
       "      <td>NaN</td>\n",
       "      <td>NaN</td>\n",
       "      <td>12.82</td>\n",
       "    </tr>\n",
       "    <tr>\n",
       "      <th>2</th>\n",
       "      <td>Feb 2005</td>\n",
       "      <td>0.32</td>\n",
       "      <td>100.63</td>\n",
       "      <td>28/02/2005</td>\n",
       "      <td>NaN</td>\n",
       "      <td>NaN</td>\n",
       "      <td>NaN</td>\n",
       "      <td>NaN</td>\n",
       "      <td>12.08</td>\n",
       "    </tr>\n",
       "    <tr>\n",
       "      <th>3</th>\n",
       "      <td>Mar 2005</td>\n",
       "      <td>-1.07</td>\n",
       "      <td>99.56</td>\n",
       "      <td>31/03/2005</td>\n",
       "      <td>NaN</td>\n",
       "      <td>NaN</td>\n",
       "      <td>NaN</td>\n",
       "      <td>NaN</td>\n",
       "      <td>14.02</td>\n",
       "    </tr>\n",
       "    <tr>\n",
       "      <th>4</th>\n",
       "      <td>Apr 2005</td>\n",
       "      <td>-0.60</td>\n",
       "      <td>98.96</td>\n",
       "      <td>29/04/2005</td>\n",
       "      <td>NaN</td>\n",
       "      <td>NaN</td>\n",
       "      <td>NaN</td>\n",
       "      <td>NaN</td>\n",
       "      <td>15.31</td>\n",
       "    </tr>\n",
       "  </tbody>\n",
       "</table>\n",
       "</div>"
      ],
      "text/plain": [
       "  ReturnDate  PercentReturn   Index       Dates  VIXY US Equity  \\\n",
       "0   Dec 2004            NaN  100.00  31/12/2004             NaN   \n",
       "1   Jan 2005           0.31  100.31  31/01/2005             NaN   \n",
       "2   Feb 2005           0.32  100.63  28/02/2005             NaN   \n",
       "3   Mar 2005          -1.07   99.56  31/03/2005             NaN   \n",
       "4   Apr 2005          -0.60   98.96  29/04/2005             NaN   \n",
       "\n",
       "   VXX US Equity  UVXY US Equity  VIXM US Equity  VIX Index  \n",
       "0            NaN             NaN             NaN      13.29  \n",
       "1            NaN             NaN             NaN      12.82  \n",
       "2            NaN             NaN             NaN      12.08  \n",
       "3            NaN             NaN             NaN      14.02  \n",
       "4            NaN             NaN             NaN      15.31  "
      ]
     },
     "execution_count": 47,
     "metadata": {},
     "output_type": "execute_result"
    }
   ],
   "source": [
    "merged.head()"
   ]
  }
 ],
 "metadata": {
  "kernelspec": {
   "display_name": "Python 3",
   "language": "python",
   "name": "python3"
  },
  "language_info": {
   "codemirror_mode": {
    "name": "ipython",
    "version": 3
   },
   "file_extension": ".py",
   "mimetype": "text/x-python",
   "name": "python",
   "nbconvert_exporter": "python",
   "pygments_lexer": "ipython3",
   "version": "3.12.3"
  }
 },
 "nbformat": 4,
 "nbformat_minor": 2
}
