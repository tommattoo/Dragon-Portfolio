{
 "cells": [
  {
   "cell_type": "code",
   "execution_count": 1,
   "metadata": {},
   "outputs": [],
   "source": [
    "import pandas as pd\n",
    "import numpy as np\n",
    "import matplotlib.pyplot as plt\n",
    "import statsmodels.api as sm"
   ]
  },
  {
   "cell_type": "code",
   "execution_count": 2,
   "metadata": {},
   "outputs": [],
   "source": [
    "#/Users/tommi/Desktop/Uni_documents/Data/dragon-portfolio/EHI640_returns10-02-2025.csv\n",
    "benchmark_volatility = pd.read_csv('/Users/tommi/Desktop/Uni_documents/Data/dragon-portfolio/EHI640_returns10-02-2025.csv')\n",
    "\n",
    "#read this csv file /Users/tommi/Desktop/Uni_documents/Data/dragon-portfolio/volatility-monthly.csv\n",
    "volatility_monthly = pd.read_csv('/Users/tommi/Desktop/Uni_documents/Data/volatility-monthly.csv')\n",
    "\n",
    "# import /Users/tommi/Desktop/Uni_documents/Data/volatility-2004.csv\n",
    "volatility = pd.read_csv('/Users/tommi/Desktop/Uni_documents/Data/volatility-2004.csv')"
   ]
  },
  {
   "cell_type": "code",
   "execution_count": 3,
   "metadata": {},
   "outputs": [
    {
     "data": {
      "text/html": [
       "<div>\n",
       "<style scoped>\n",
       "    .dataframe tbody tr th:only-of-type {\n",
       "        vertical-align: middle;\n",
       "    }\n",
       "\n",
       "    .dataframe tbody tr th {\n",
       "        vertical-align: top;\n",
       "    }\n",
       "\n",
       "    .dataframe thead th {\n",
       "        text-align: right;\n",
       "    }\n",
       "</style>\n",
       "<table border=\"1\" class=\"dataframe\">\n",
       "  <thead>\n",
       "    <tr style=\"text-align: right;\">\n",
       "      <th></th>\n",
       "      <th>Dates</th>\n",
       "      <th>VIXY US Equity</th>\n",
       "      <th>VXX US Equity</th>\n",
       "      <th>UVXY US Equity</th>\n",
       "      <th>VIXM US Equity</th>\n",
       "      <th>VIX Index</th>\n",
       "    </tr>\n",
       "  </thead>\n",
       "  <tbody>\n",
       "    <tr>\n",
       "      <th>0</th>\n",
       "      <td>27/02/2004</td>\n",
       "      <td>NaN</td>\n",
       "      <td>NaN</td>\n",
       "      <td>NaN</td>\n",
       "      <td>NaN</td>\n",
       "      <td>14.55</td>\n",
       "    </tr>\n",
       "    <tr>\n",
       "      <th>1</th>\n",
       "      <td>31/03/2004</td>\n",
       "      <td>NaN</td>\n",
       "      <td>NaN</td>\n",
       "      <td>NaN</td>\n",
       "      <td>NaN</td>\n",
       "      <td>16.74</td>\n",
       "    </tr>\n",
       "    <tr>\n",
       "      <th>2</th>\n",
       "      <td>30/04/2004</td>\n",
       "      <td>NaN</td>\n",
       "      <td>NaN</td>\n",
       "      <td>NaN</td>\n",
       "      <td>NaN</td>\n",
       "      <td>17.19</td>\n",
       "    </tr>\n",
       "    <tr>\n",
       "      <th>3</th>\n",
       "      <td>31/05/2004</td>\n",
       "      <td>NaN</td>\n",
       "      <td>NaN</td>\n",
       "      <td>NaN</td>\n",
       "      <td>NaN</td>\n",
       "      <td>15.50</td>\n",
       "    </tr>\n",
       "    <tr>\n",
       "      <th>4</th>\n",
       "      <td>30/06/2004</td>\n",
       "      <td>NaN</td>\n",
       "      <td>NaN</td>\n",
       "      <td>NaN</td>\n",
       "      <td>NaN</td>\n",
       "      <td>14.34</td>\n",
       "    </tr>\n",
       "  </tbody>\n",
       "</table>\n",
       "</div>"
      ],
      "text/plain": [
       "        Dates  VIXY US Equity  VXX US Equity  UVXY US Equity  VIXM US Equity  \\\n",
       "0  27/02/2004             NaN            NaN             NaN             NaN   \n",
       "1  31/03/2004             NaN            NaN             NaN             NaN   \n",
       "2  30/04/2004             NaN            NaN             NaN             NaN   \n",
       "3  31/05/2004             NaN            NaN             NaN             NaN   \n",
       "4  30/06/2004             NaN            NaN             NaN             NaN   \n",
       "\n",
       "   VIX Index  \n",
       "0      14.55  \n",
       "1      16.74  \n",
       "2      17.19  \n",
       "3      15.50  \n",
       "4      14.34  "
      ]
     },
     "execution_count": 3,
     "metadata": {},
     "output_type": "execute_result"
    }
   ],
   "source": [
    "volatility.head()"
   ]
  },
  {
   "cell_type": "code",
   "execution_count": 4,
   "metadata": {},
   "outputs": [
    {
     "name": "stderr",
     "output_type": "stream",
     "text": [
      "/var/folders/ly/mr0404x501n5fsqtt6yhhbtm0000gn/T/ipykernel_22817/4255964890.py:2: UserWarning: Parsing dates in %d/%m/%Y format when dayfirst=False (the default) was specified. Pass `dayfirst=True` or specify a format to silence this warning.\n",
      "  volatility_monthly['Dates'] = pd.to_datetime(volatility_monthly['Dates'])\n",
      "/var/folders/ly/mr0404x501n5fsqtt6yhhbtm0000gn/T/ipykernel_22817/4255964890.py:4: UserWarning: Parsing dates in %d/%m/%Y format when dayfirst=False (the default) was specified. Pass `dayfirst=True` or specify a format to silence this warning.\n",
      "  volatility['Dates'] = pd.to_datetime(volatility['Dates'])\n"
     ]
    }
   ],
   "source": [
    "#volatility_monthly Dates to datetime\n",
    "volatility_monthly['Dates'] = pd.to_datetime(volatility_monthly['Dates'])\n",
    "\n",
    "volatility['Dates'] = pd.to_datetime(volatility['Dates'])"
   ]
  },
  {
   "cell_type": "code",
   "execution_count": 5,
   "metadata": {},
   "outputs": [
    {
     "data": {
      "text/plain": [
       "241"
      ]
     },
     "execution_count": 5,
     "metadata": {},
     "output_type": "execute_result"
    }
   ],
   "source": [
    "len(benchmark_volatility)"
   ]
  },
  {
   "cell_type": "code",
   "execution_count": 6,
   "metadata": {},
   "outputs": [
    {
     "data": {
      "text/html": [
       "<div>\n",
       "<style scoped>\n",
       "    .dataframe tbody tr th:only-of-type {\n",
       "        vertical-align: middle;\n",
       "    }\n",
       "\n",
       "    .dataframe tbody tr th {\n",
       "        vertical-align: top;\n",
       "    }\n",
       "\n",
       "    .dataframe thead th {\n",
       "        text-align: right;\n",
       "    }\n",
       "</style>\n",
       "<table border=\"1\" class=\"dataframe\">\n",
       "  <thead>\n",
       "    <tr style=\"text-align: right;\">\n",
       "      <th></th>\n",
       "      <th>Dates</th>\n",
       "      <th>VIXY US Equity</th>\n",
       "      <th>VXX US Equity</th>\n",
       "      <th>TVIXF US Equity</th>\n",
       "      <th>SVXY US Equity</th>\n",
       "      <th>SPXS US Equity</th>\n",
       "      <th>UVXY US Equity</th>\n",
       "      <th>USMV US Equity</th>\n",
       "    </tr>\n",
       "  </thead>\n",
       "  <tbody>\n",
       "    <tr>\n",
       "      <th>283</th>\n",
       "      <td>2024-09-30</td>\n",
       "      <td>49.00</td>\n",
       "      <td>49.600</td>\n",
       "      <td>0.07</td>\n",
       "      <td>50.11</td>\n",
       "      <td>6.65</td>\n",
       "      <td>24.93</td>\n",
       "      <td>91.31</td>\n",
       "    </tr>\n",
       "    <tr>\n",
       "      <th>284</th>\n",
       "      <td>2024-10-31</td>\n",
       "      <td>57.20</td>\n",
       "      <td>57.870</td>\n",
       "      <td>0.07</td>\n",
       "      <td>45.91</td>\n",
       "      <td>6.89</td>\n",
       "      <td>30.94</td>\n",
       "      <td>89.99</td>\n",
       "    </tr>\n",
       "    <tr>\n",
       "      <th>285</th>\n",
       "      <td>2024-11-29</td>\n",
       "      <td>41.99</td>\n",
       "      <td>42.585</td>\n",
       "      <td>0.07</td>\n",
       "      <td>52.92</td>\n",
       "      <td>5.84</td>\n",
       "      <td>19.30</td>\n",
       "      <td>94.55</td>\n",
       "    </tr>\n",
       "    <tr>\n",
       "      <th>286</th>\n",
       "      <td>2024-12-31</td>\n",
       "      <td>45.02</td>\n",
       "      <td>45.800</td>\n",
       "      <td>0.07</td>\n",
       "      <td>50.06</td>\n",
       "      <td>6.28</td>\n",
       "      <td>20.72</td>\n",
       "      <td>88.79</td>\n",
       "    </tr>\n",
       "    <tr>\n",
       "      <th>287</th>\n",
       "      <td>2025-01-31</td>\n",
       "      <td>43.37</td>\n",
       "      <td>44.120</td>\n",
       "      <td>0.07</td>\n",
       "      <td>50.60</td>\n",
       "      <td>5.83</td>\n",
       "      <td>19.37</td>\n",
       "      <td>91.95</td>\n",
       "    </tr>\n",
       "  </tbody>\n",
       "</table>\n",
       "</div>"
      ],
      "text/plain": [
       "         Dates  VIXY US Equity  VXX US Equity  TVIXF US Equity  \\\n",
       "283 2024-09-30           49.00         49.600             0.07   \n",
       "284 2024-10-31           57.20         57.870             0.07   \n",
       "285 2024-11-29           41.99         42.585             0.07   \n",
       "286 2024-12-31           45.02         45.800             0.07   \n",
       "287 2025-01-31           43.37         44.120             0.07   \n",
       "\n",
       "     SVXY US Equity  SPXS US Equity  UVXY US Equity  USMV US Equity  \n",
       "283           50.11            6.65           24.93           91.31  \n",
       "284           45.91            6.89           30.94           89.99  \n",
       "285           52.92            5.84           19.30           94.55  \n",
       "286           50.06            6.28           20.72           88.79  \n",
       "287           50.60            5.83           19.37           91.95  "
      ]
     },
     "execution_count": 6,
     "metadata": {},
     "output_type": "execute_result"
    }
   ],
   "source": [
    "volatility_monthly.tail()"
   ]
  },
  {
   "cell_type": "code",
   "execution_count": 7,
   "metadata": {},
   "outputs": [
    {
     "data": {
      "text/plain": [
       "241"
      ]
     },
     "execution_count": 7,
     "metadata": {},
     "output_type": "execute_result"
    }
   ],
   "source": [
    "#keep the rows only where the column 'Dates' is greater that 2004-12-1 and less than 2025-01-31\n",
    "volatility_monthly = volatility_monthly[(volatility_monthly['Dates'] >= '2004-12-01') & (volatility_monthly['Dates'] < '2025-01-31')]\n",
    "volatility = volatility[(volatility['Dates'] >= '2004-12-01') & (volatility['Dates'] < '2025-01-31')]\n",
    "\n",
    "#reset the index\n",
    "volatility_monthly.reset_index(drop=True, inplace=True)\n",
    "volatility.reset_index(drop=True, inplace=True)\n",
    "\n",
    "len(volatility_monthly)\n"
   ]
  },
  {
   "cell_type": "code",
   "execution_count": 8,
   "metadata": {},
   "outputs": [
    {
     "data": {
      "text/plain": [
       "241"
      ]
     },
     "execution_count": 8,
     "metadata": {},
     "output_type": "execute_result"
    }
   ],
   "source": [
    "len(volatility)"
   ]
  },
  {
   "cell_type": "code",
   "execution_count": 9,
   "metadata": {},
   "outputs": [],
   "source": [
    "#merge the two dataframes on the index\n",
    "merged = pd.merge(benchmark_volatility, volatility_monthly, left_index=True, right_index=True)\n"
   ]
  },
  {
   "cell_type": "code",
   "execution_count": 14,
   "metadata": {},
   "outputs": [
    {
     "data": {
      "text/html": [
       "<div>\n",
       "<style scoped>\n",
       "    .dataframe tbody tr th:only-of-type {\n",
       "        vertical-align: middle;\n",
       "    }\n",
       "\n",
       "    .dataframe tbody tr th {\n",
       "        vertical-align: top;\n",
       "    }\n",
       "\n",
       "    .dataframe thead th {\n",
       "        text-align: right;\n",
       "    }\n",
       "</style>\n",
       "<table border=\"1\" class=\"dataframe\">\n",
       "  <thead>\n",
       "    <tr style=\"text-align: right;\">\n",
       "      <th></th>\n",
       "      <th>Dates</th>\n",
       "      <th>EHFI451 Index</th>\n",
       "      <th>VIXY US Equity</th>\n",
       "      <th>VXX US Equity</th>\n",
       "      <th>TVIXF US Equity</th>\n",
       "      <th>SVXY US Equity</th>\n",
       "      <th>SPXS US Equity</th>\n",
       "      <th>UVXY US Equity</th>\n",
       "      <th>USMV US Equity</th>\n",
       "      <th>VIXM US Equity</th>\n",
       "    </tr>\n",
       "  </thead>\n",
       "  <tbody>\n",
       "    <tr>\n",
       "      <th>0</th>\n",
       "      <td>2004-12-31</td>\n",
       "      <td>100.00</td>\n",
       "      <td>NaN</td>\n",
       "      <td>NaN</td>\n",
       "      <td>NaN</td>\n",
       "      <td>NaN</td>\n",
       "      <td>NaN</td>\n",
       "      <td>NaN</td>\n",
       "      <td>NaN</td>\n",
       "      <td>NaN</td>\n",
       "    </tr>\n",
       "    <tr>\n",
       "      <th>1</th>\n",
       "      <td>2005-01-31</td>\n",
       "      <td>100.31</td>\n",
       "      <td>NaN</td>\n",
       "      <td>NaN</td>\n",
       "      <td>NaN</td>\n",
       "      <td>NaN</td>\n",
       "      <td>NaN</td>\n",
       "      <td>NaN</td>\n",
       "      <td>NaN</td>\n",
       "      <td>NaN</td>\n",
       "    </tr>\n",
       "    <tr>\n",
       "      <th>2</th>\n",
       "      <td>2005-02-28</td>\n",
       "      <td>100.63</td>\n",
       "      <td>NaN</td>\n",
       "      <td>NaN</td>\n",
       "      <td>NaN</td>\n",
       "      <td>NaN</td>\n",
       "      <td>NaN</td>\n",
       "      <td>NaN</td>\n",
       "      <td>NaN</td>\n",
       "      <td>NaN</td>\n",
       "    </tr>\n",
       "    <tr>\n",
       "      <th>3</th>\n",
       "      <td>2005-03-31</td>\n",
       "      <td>99.56</td>\n",
       "      <td>NaN</td>\n",
       "      <td>NaN</td>\n",
       "      <td>NaN</td>\n",
       "      <td>NaN</td>\n",
       "      <td>NaN</td>\n",
       "      <td>NaN</td>\n",
       "      <td>NaN</td>\n",
       "      <td>NaN</td>\n",
       "    </tr>\n",
       "    <tr>\n",
       "      <th>4</th>\n",
       "      <td>2005-04-29</td>\n",
       "      <td>98.96</td>\n",
       "      <td>NaN</td>\n",
       "      <td>NaN</td>\n",
       "      <td>NaN</td>\n",
       "      <td>NaN</td>\n",
       "      <td>NaN</td>\n",
       "      <td>NaN</td>\n",
       "      <td>NaN</td>\n",
       "      <td>NaN</td>\n",
       "    </tr>\n",
       "  </tbody>\n",
       "</table>\n",
       "</div>"
      ],
      "text/plain": [
       "       Dates  EHFI451 Index  VIXY US Equity  VXX US Equity  TVIXF US Equity  \\\n",
       "0 2004-12-31         100.00             NaN            NaN              NaN   \n",
       "1 2005-01-31         100.31             NaN            NaN              NaN   \n",
       "2 2005-02-28         100.63             NaN            NaN              NaN   \n",
       "3 2005-03-31          99.56             NaN            NaN              NaN   \n",
       "4 2005-04-29          98.96             NaN            NaN              NaN   \n",
       "\n",
       "   SVXY US Equity  SPXS US Equity  UVXY US Equity  USMV US Equity  \\\n",
       "0             NaN             NaN             NaN             NaN   \n",
       "1             NaN             NaN             NaN             NaN   \n",
       "2             NaN             NaN             NaN             NaN   \n",
       "3             NaN             NaN             NaN             NaN   \n",
       "4             NaN             NaN             NaN             NaN   \n",
       "\n",
       "   VIXM US Equity  \n",
       "0             NaN  \n",
       "1             NaN  \n",
       "2             NaN  \n",
       "3             NaN  \n",
       "4             NaN  "
      ]
     },
     "execution_count": 14,
     "metadata": {},
     "output_type": "execute_result"
    }
   ],
   "source": [
    "merged.head()"
   ]
  },
  {
   "cell_type": "code",
   "execution_count": 11,
   "metadata": {},
   "outputs": [],
   "source": [
    "#drop the ReturnDate\tPercentReturn columns\n",
    "merged = merged.drop(columns=['ReturnDate', 'PercentReturn'])"
   ]
  },
  {
   "cell_type": "code",
   "execution_count": 12,
   "metadata": {},
   "outputs": [],
   "source": [
    "dates = merged['Dates']\n",
    "merged.drop(labels=['Dates'], axis=1,inplace = True)\n",
    "merged.insert(0, 'Dates', dates)\n",
    "\n",
    "VIXM = volatility['VIXM US Equity']\n",
    "merged['VIXM US Equity'] = VIXM"
   ]
  },
  {
   "cell_type": "code",
   "execution_count": 13,
   "metadata": {},
   "outputs": [],
   "source": [
    "#rename the Index column to EHFI451 Index\n",
    "merged = merged.rename(columns={'Index': 'EHFI451 Index'})\n"
   ]
  },
  {
   "cell_type": "code",
   "execution_count": 15,
   "metadata": {},
   "outputs": [],
   "source": [
    "#export the merged dataframe to a csv file /Users/tommi/Desktop/Uni_documents/Data/dragon-portfolio\n",
    "merged.to_csv('/Users/tommi/Desktop/Uni_documents/Data/dragon-portfolio/volatility-monthly.csv', index=False)"
   ]
  },
  {
   "cell_type": "code",
   "execution_count": null,
   "metadata": {},
   "outputs": [],
   "source": []
  },
  {
   "cell_type": "code",
   "execution_count": null,
   "metadata": {},
   "outputs": [],
   "source": []
  }
 ],
 "metadata": {
  "kernelspec": {
   "display_name": "Python 3",
   "language": "python",
   "name": "python3"
  },
  "language_info": {
   "codemirror_mode": {
    "name": "ipython",
    "version": 3
   },
   "file_extension": ".py",
   "mimetype": "text/x-python",
   "name": "python",
   "nbconvert_exporter": "python",
   "pygments_lexer": "ipython3",
   "version": "3.12.3"
  }
 },
 "nbformat": 4,
 "nbformat_minor": 2
}
