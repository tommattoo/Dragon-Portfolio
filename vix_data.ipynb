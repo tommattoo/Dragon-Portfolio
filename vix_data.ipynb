{
 "cells": [
  {
   "cell_type": "code",
   "execution_count": null,
   "metadata": {},
   "outputs": [
    {
     "name": "stderr",
     "output_type": "stream",
     "text": [
      "[*********************100%***********************]  1 of 1 completed"
     ]
    },
    {
     "name": "stdout",
     "output_type": "stream",
     "text": [
      "Price           Close\n",
      "Ticker           ^VIX\n",
      "Date                 \n",
      "2001-01-02  29.990000\n",
      "2001-01-03  26.600000\n",
      "2001-01-04  26.969999\n",
      "2001-01-05  28.670000\n",
      "2001-01-08  29.840000\n"
     ]
    },
    {
     "name": "stderr",
     "output_type": "stream",
     "text": [
      "\n"
     ]
    }
   ],
   "source": [
    "import yfinance as yf\n",
    "\n",
    "# Define the ticker symbol and date range\n",
    "ticker = \"^VIX\"\n",
    "start_date = \"2001-01-01\"\n",
    "end_date = \"2025-02-14\"\n",
    "\n",
    "# Download data from Yahoo Finance\n",
    "vix_data = yf.download(ticker, start=start_date, end=end_date)\n",
    "\n",
    "# Select only the 'Close' column\n",
    "vix_close = vix_data[['Close']]\n",
    "\n",
    "# Print the first few rows to verify the data\n",
    "print(vix_close.head())\n",
    "\n",
    "# Save the data to a CSV file /Users/tommi/Desktop/Uni_documents/Data/dragon-portfolio\n",
    "vix_close.to_csv('/Users/tommi/Desktop/Uni_documents/Data/dragon-portfolio/vix_data.csv')\n"
   ]
  }
 ],
 "metadata": {
  "kernelspec": {
   "display_name": "Python 3",
   "language": "python",
   "name": "python3"
  },
  "language_info": {
   "codemirror_mode": {
    "name": "ipython",
    "version": 3
   },
   "file_extension": ".py",
   "mimetype": "text/x-python",
   "name": "python",
   "nbconvert_exporter": "python",
   "pygments_lexer": "ipython3",
   "version": "3.12.3"
  }
 },
 "nbformat": 4,
 "nbformat_minor": 2
}
